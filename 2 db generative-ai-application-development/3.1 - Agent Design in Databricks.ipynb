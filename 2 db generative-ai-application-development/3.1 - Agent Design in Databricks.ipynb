{
 "cells": [
  {
   "cell_type": "markdown",
   "metadata": {
    "application/vnd.databricks.v1+cell": {
     "cellMetadata": {},
     "inputWidgets": {},
     "nuid": "e307fa97-27b3-4ead-b18a-3542c38d3a52",
     "showTitle": false,
     "title": ""
    }
   },
   "source": [
    "\n",
    "<div style=\"text-align: center; line-height: 0; padding-top: 9px;\">\n",
    "  <img src=\"https://databricks.com/wp-content/uploads/2018/03/db-academy-rgb-1200px.png\" alt=\"Databricks Learning\">\n",
    "</div>\n"
   ]
  },
  {
   "cell_type": "markdown",
   "metadata": {
    "application/vnd.databricks.v1+cell": {
     "cellMetadata": {},
     "inputWidgets": {},
     "nuid": "20c4ac41-d522-403f-954f-cf7222f095ca",
     "showTitle": false,
     "title": ""
    }
   },
   "source": [
    "\n",
    "# Agent Design in Databricks\n",
    "\n",
    "In the previous demo, we build a multi-stage AI system by manually stitching them together. With Agents, we can build the same system in an autonomous way. An agent, typically, has a brain which make the decisions, a planning outline and tools to use. \n",
    "\n",
    "In this demo, we will create two types of agents. The first agent will use **a search engine, Wikipedia, and Youtube** to recommend a movie, collect data about the movie and show the trailer video. \n",
    "\n",
    "The second agent is a verys specific type agent; it will allow us to \"talk with data\" using natural language queries. \n",
    "\n",
    "**Learning Objectives:**\n",
    "\n",
    "*By the end of this demo, you will be able to;*\n",
    "\n",
    "* Build semi-automated systems with LLM agents to perform internet searches and dataset analysis using LangChain.\n",
    "\n",
    "* Use appropriate tool for the agent task to be achieved.\n",
    "\n",
    "* Explore LangChain’s built-in agents for specific, advanced workflows.\n",
    "\n",
    "* Create a Pandas DataFrame Agent to interact with a Pandas DataFrame as needed.\n"
   ]
  },
  {
   "cell_type": "markdown",
   "metadata": {
    "application/vnd.databricks.v1+cell": {
     "cellMetadata": {},
     "inputWidgets": {},
     "nuid": "c089de2a-a575-4c3f-afd7-b2bccb2c8643",
     "showTitle": false,
     "title": ""
    }
   },
   "source": [
    "## Requirements\n",
    "\n",
    "Please review the following requirements before starting the lesson:\n",
    "\n",
    "* To run this notebook, you need to use one of the following Databricks runtime(s): **14.3.x-cpu-ml-scala2.12 14.3.x-scala2.12**\n"
   ]
  },
  {
   "cell_type": "markdown",
   "metadata": {
    "application/vnd.databricks.v1+cell": {
     "cellMetadata": {},
     "inputWidgets": {},
     "nuid": "ce44b7a7-3c65-4869-8e2e-9508867908a9",
     "showTitle": false,
     "title": ""
    }
   },
   "source": [
    "\n",
    "## Classroom Setup\n",
    "\n",
    "Before starting the demo, run the provided classroom setup script. This script will define configuration variables necessary for the demo. Execute the following cell:"
   ]
  },
  {
   "cell_type": "code",
   "execution_count": 0,
   "metadata": {
    "application/vnd.databricks.v1+cell": {
     "cellMetadata": {},
     "inputWidgets": {},
     "nuid": "d85b3e86-2f8d-492f-bc90-665b7019e3ad",
     "showTitle": false,
     "title": ""
    }
   },
   "outputs": [],
   "source": [
    "%pip install --upgrade --quiet langchain==0.2.11 langchain-community==0.2.10 langchain-experimental==0.0.64 youtube_search wikipedia==1.4.0 duckduckgo-search==6.2.5 mlflow==2.14.3 pydantic==2.8.2 cloudpickle==2.2.1\n",
    "\n",
    "dbutils.library.restartPython()"
   ]
  },
  {
   "cell_type": "code",
   "execution_count": 0,
   "metadata": {
    "application/vnd.databricks.v1+cell": {
     "cellMetadata": {},
     "inputWidgets": {},
     "nuid": "422ee71e-1f17-4de9-8f70-ada6a1da3e55",
     "showTitle": false,
     "title": ""
    }
   },
   "outputs": [],
   "source": [
    "%run ../Includes/Classroom-Setup-04"
   ]
  },
  {
   "cell_type": "markdown",
   "metadata": {
    "application/vnd.databricks.v1+cell": {
     "cellMetadata": {},
     "inputWidgets": {},
     "nuid": "8ba49286-352b-423d-b32b-53fa0b5cdd65",
     "showTitle": false,
     "title": ""
    }
   },
   "source": [
    "**Other Conventions:**\n",
    "\n",
    "Throughout this demo, we'll refer to the object `DA`. This object, provided by Databricks Academy, contains variables such as your username, catalog name, schema name, working directory, and dataset locations. Run the code block below to view these details:"
   ]
  },
  {
   "cell_type": "code",
   "execution_count": 0,
   "metadata": {
    "application/vnd.databricks.v1+cell": {
     "cellMetadata": {},
     "inputWidgets": {},
     "nuid": "7b697eea-da05-4ef3-9166-b3404e9e11fb",
     "showTitle": false,
     "title": ""
    }
   },
   "outputs": [],
   "source": [
    "print(f\"Username:          {DA.username}\")\n",
    "print(f\"Catalog Name:      {DA.catalog_name}\")\n",
    "print(f\"Schema Name:       {DA.schema_name}\")\n",
    "print(f\"Working Directory: {DA.paths.working_dir}\")\n",
    "print(f\"Dataset Location:  {DA.paths.datasets}\")"
   ]
  },
  {
   "cell_type": "markdown",
   "metadata": {
    "application/vnd.databricks.v1+cell": {
     "cellMetadata": {},
     "inputWidgets": {},
     "nuid": "83a72e69-8e0c-42f4-a02f-f23fde622cf3",
     "showTitle": false,
     "title": ""
    }
   },
   "source": [
    "## Enable MLflow Auto-Log\n",
    "\n",
    "MLflow has support for auto-logging LangChain models. We will enable this below.\n"
   ]
  },
  {
   "cell_type": "code",
   "execution_count": 0,
   "metadata": {
    "application/vnd.databricks.v1+cell": {
     "cellMetadata": {},
     "inputWidgets": {},
     "nuid": "f68d0674-9fec-4563-be7b-2e9a5d03b1a3",
     "showTitle": false,
     "title": ""
    }
   },
   "outputs": [],
   "source": [
    "import mlflow\n",
    "mlflow.langchain.autolog()"
   ]
  },
  {
   "cell_type": "markdown",
   "metadata": {
    "application/vnd.databricks.v1+cell": {
     "cellMetadata": {},
     "inputWidgets": {},
     "nuid": "91ed59fe-93de-4136-9ae2-17597a9005b1",
     "showTitle": false,
     "title": ""
    }
   },
   "source": [
    "## Create an Autonomous Agent (Brixo 🤖)\n",
    "\n",
    "In the previous demo, we create chains using various prompts and tools combinations go solve a problem defined by the prompt. In chains, we need to define the input parameters and prompts. \n",
    "\n",
    "In this demo, we will create an agent that can **autonomously reason** about the steps to take and select **the tools** to use for each task.\n",
    "\n",
    "**🤖 Agent name: Brixo :)**\n",
    "\n",
    "**✅ Agent Abilities: This agent can help you by suggesting fun activities, pick videos and even write code.**"
   ]
  },
  {
   "cell_type": "markdown",
   "metadata": {
    "application/vnd.databricks.v1+cell": {
     "cellMetadata": {},
     "inputWidgets": {},
     "nuid": "88d573d1-a983-433a-906c-342b476cb118",
     "showTitle": false,
     "title": ""
    }
   },
   "source": [
    "### Define the Brain of the Agent\n",
    "\n",
    "LLM is the brain of the agent. We will use **Databricks' DBRX model** as the brain of our agent."
   ]
  },
  {
   "cell_type": "code",
   "execution_count": 0,
   "metadata": {
    "application/vnd.databricks.v1+cell": {
     "cellMetadata": {},
     "inputWidgets": {},
     "nuid": "08d8b70a-bc95-4e26-bda3-1e5ef0d2a497",
     "showTitle": false,
     "title": ""
    }
   },
   "outputs": [],
   "source": [
    "from langchain_community.chat_models import ChatDatabricks\n",
    "\n",
    "# play with max_tokens to define the length of the response\n",
    "llm_dbrx = ChatDatabricks(endpoint=\"databricks-dbrx-instruct\", max_tokens = 500)"
   ]
  },
  {
   "cell_type": "markdown",
   "metadata": {
    "application/vnd.databricks.v1+cell": {
     "cellMetadata": {},
     "inputWidgets": {},
     "nuid": "5a4f6af7-c9af-493d-bbf0-5edca902d119",
     "showTitle": false,
     "title": ""
    }
   },
   "source": [
    "### Define Tools that the Agent Can Use\n",
    "\n",
    "Agent can use various tools for completing a task. Here we will define the tools that can be used by **Brixo 🤖**."
   ]
  },
  {
   "cell_type": "code",
   "execution_count": 0,
   "metadata": {
    "application/vnd.databricks.v1+cell": {
     "cellMetadata": {},
     "inputWidgets": {},
     "nuid": "e6ab5b6d-ff2b-4e59-ad37-5c6ed1610ffb",
     "showTitle": false,
     "title": ""
    }
   },
   "outputs": [],
   "source": [
    "from langchain_community.tools import WikipediaQueryRun\n",
    "from langchain_community.utilities import WikipediaAPIWrapper\n",
    "\n",
    "from langchain_community.tools import YouTubeSearchTool\n",
    "\n",
    "from langchain.agents import Tool\n",
    "from langchain_experimental.utilities import PythonREPL\n",
    "\n",
    "from langchain_community.tools import DuckDuckGoSearchRun\n",
    "\n",
    "# Wiki tool for info retrieval\n",
    "api_wrapper = WikipediaAPIWrapper(top_k_results=1, doc_content_chars_max=100)\n",
    "tool_wiki = WikipediaQueryRun(api_wrapper=api_wrapper)\n",
    "\n",
    "# tool to search youtube videos\n",
    "tool_youtube = YouTubeSearchTool()\n",
    "\n",
    "# web search tool\n",
    "search = DuckDuckGoSearchRun()\n",
    "\n",
    "# tool to write python code\n",
    "python_repl = PythonREPL()\n",
    "repl_tool = Tool(\n",
    "    name=\"python_repl\",\n",
    "    description=\"A Python shell. Use this to execute python commands. Input should be a valid python command. If you want to see the output of a value, you should print it out with `print(...)`.\",\n",
    "    func=python_repl.run,\n",
    ")\n",
    "\n",
    "# toolset\n",
    "tools = [tool_wiki, tool_youtube, search, repl_tool]"
   ]
  },
  {
   "cell_type": "markdown",
   "metadata": {
    "application/vnd.databricks.v1+cell": {
     "cellMetadata": {},
     "inputWidgets": {},
     "nuid": "ce0bf79d-919c-4a44-a6c6-50fbbd907924",
     "showTitle": false,
     "title": ""
    }
   },
   "source": [
    "### Define Planning Logic\n",
    "\n",
    "While working on tasks, our agent will need to done some reasoning and planning. We can define the format of this plan by passing a prompt."
   ]
  },
  {
   "cell_type": "code",
   "execution_count": 0,
   "metadata": {
    "application/vnd.databricks.v1+cell": {
     "cellMetadata": {},
     "inputWidgets": {},
     "nuid": "da6bf4de-59d2-46a7-b285-336912abba98",
     "showTitle": false,
     "title": ""
    }
   },
   "outputs": [],
   "source": [
    "from langchain.prompts import PromptTemplate\n",
    "\n",
    "template = \"\"\"Answer the following questions as best you can. You have access to the following tools:\n",
    "\n",
    "{tools}\n",
    "\n",
    "Use the following format:\n",
    "\n",
    "Question: the input question you must answer\n",
    "Thought: you should always think about what to do\n",
    "Action: the action to take, should be one of [{tool_names}]\n",
    "Action Input: the input to the action\n",
    "Observation: the result of the action\n",
    "... (this Thought/Action/Action Input/Observation can repeat N times)\n",
    "Thought: I now know the final answer\n",
    "Final Answer: the final answer to the original input question\n",
    "\n",
    "Begin!\n",
    "\n",
    "Question: {input}\n",
    "Thought:{agent_scratchpad}\"\"\"\n",
    "\n",
    "prompt= PromptTemplate.from_template(template)"
   ]
  },
  {
   "cell_type": "markdown",
   "metadata": {
    "application/vnd.databricks.v1+cell": {
     "cellMetadata": {},
     "inputWidgets": {},
     "nuid": "43990006-5871-4534-be63-55aa14b7c01a",
     "showTitle": false,
     "title": ""
    }
   },
   "source": [
    "### Create the Agent\n",
    "\n",
    "The final step is to put all these together and build an agent."
   ]
  },
  {
   "cell_type": "code",
   "execution_count": 0,
   "metadata": {
    "application/vnd.databricks.v1+cell": {
     "cellMetadata": {},
     "inputWidgets": {},
     "nuid": "bf2a0331-f53f-40c5-9852-6bcfcac5cbbd",
     "showTitle": false,
     "title": ""
    }
   },
   "outputs": [],
   "source": [
    "from langchain.agents import AgentExecutor\n",
    "from langchain.agents.react.agent import create_react_agent\n",
    "\n",
    "agent = create_react_agent(llm_dbrx, tools, prompt)\n",
    "brixo  = AgentExecutor(agent=agent, tools=tools, verbose=True, handle_parsing_errors=True)\n",
    "brixo.invoke({\"input\": \n",
    "    \"\"\"What would be a nice movie to watch in rainy weather. Follow these steps.\n",
    "    \n",
    "    First, decide which movie you would recommend.\n",
    "\n",
    "    Second, show me the trailer video of the movie that you suggest. \n",
    "\n",
    "    Next, collect data about the movie using search tool and  draw a bar chart using Python libraries. If you can't find latest data use some dummy data as we to show your abilities to the learners. Don't use ``` for python code. Input should be sanitized by removing any leading or trailing backticks. if the input starts with ”python”, remove that word as well. The output must be the result of executed code.\n",
    "\n",
    "    Finally, tell a funny joke about agents.\n",
    "    \"\"\"})"
   ]
  },
  {
   "cell_type": "markdown",
   "metadata": {
    "application/vnd.databricks.v1+cell": {
     "cellMetadata": {},
     "inputWidgets": {},
     "nuid": "897b2d66-389a-43c4-9ec1-71259f77986f",
     "showTitle": false,
     "title": ""
    }
   },
   "source": [
    "## Create an Autonomous Agent 2 (DataQio 🤖)\n",
    "\n",
    "In this section we will create a quite different agent; this agent will allow us to communicate with our **Pandas dataframe** using natural language."
   ]
  },
  {
   "cell_type": "markdown",
   "metadata": {
    "application/vnd.databricks.v1+cell": {
     "cellMetadata": {},
     "inputWidgets": {},
     "nuid": "9d95770c-50a3-4b75-8953-59bed3924b9f",
     "showTitle": false,
     "title": ""
    }
   },
   "source": [
    "### Prepare Dataset\n",
    "\n",
    "First, let's download a dataset from 🤗 and convert it to Pandas dataframe."
   ]
  },
  {
   "cell_type": "code",
   "execution_count": 0,
   "metadata": {
    "application/vnd.databricks.v1+cell": {
     "cellMetadata": {},
     "inputWidgets": {},
     "nuid": "062c3460-10c2-4276-bb62-6e3b0907c408",
     "showTitle": false,
     "title": ""
    }
   },
   "outputs": [],
   "source": [
    "from datasets import load_dataset\n",
    "\n",
    "dataset = load_dataset(\"maharshipandya/spotify-tracks-dataset\")\n",
    "df = dataset[\"train\"].to_pandas()\n",
    "display(df.sort_values(\"popularity\", ascending=False).head(10))"
   ]
  },
  {
   "cell_type": "markdown",
   "metadata": {
    "application/vnd.databricks.v1+cell": {
     "cellMetadata": {},
     "inputWidgets": {},
     "nuid": "cda34f13-4f27-414d-bab7-ffd70b10b8e5",
     "showTitle": false,
     "title": ""
    }
   },
   "source": [
    "### Define the Brain and Tools\n",
    "\n",
    "Next we will define the model(brain) of our agent and define the toolset to use."
   ]
  },
  {
   "cell_type": "code",
   "execution_count": 0,
   "metadata": {
    "application/vnd.databricks.v1+cell": {
     "cellMetadata": {},
     "inputWidgets": {},
     "nuid": "d537f335-a9b0-4acf-a13f-973814ad8df0",
     "showTitle": false,
     "title": ""
    }
   },
   "outputs": [],
   "source": [
    "from langchain.agents.agent_types import AgentType\n",
    "from langchain_experimental.agents.agent_toolkits import create_pandas_dataframe_agent\n",
    "\n",
    "from langchain_community.chat_models import ChatDatabricks\n",
    "\n",
    "llm_dbrx = ChatDatabricks(endpoint=\"databricks-dbrx-instruct\", max_tokens = 500)\n",
    "\n",
    "prefix = \"\"\" Input should be sanitized by removing any leading or trailing backticks. if the input starts with ”python”, remove that word as well. Use the dataset provided. The output must start with a new line.\"\"\"\n",
    "\n",
    "dataqio = create_pandas_dataframe_agent(\n",
    "    llm_dbrx,\n",
    "    df,\n",
    "    verbose=True,\n",
    "    max_iterations=3,\n",
    "    prefix=prefix,\n",
    "    allow_dangerous_code=True,\n",
    "    agent_executor_kwargs={\n",
    "        \"handle_parsing_errors\": True\n",
    "    }\n",
    ")"
   ]
  },
  {
   "cell_type": "markdown",
   "metadata": {
    "application/vnd.databricks.v1+cell": {
     "cellMetadata": {},
     "inputWidgets": {},
     "nuid": "4634706b-7041-42d8-9c58-db1a4ccd1b8e",
     "showTitle": false,
     "title": ""
    }
   },
   "source": [
    "### Talk with DataQio 🤖\n",
    "\n",
    "We are ready to talk with our agent to ask questions about the data."
   ]
  },
  {
   "cell_type": "code",
   "execution_count": 0,
   "metadata": {
    "application/vnd.databricks.v1+cell": {
     "cellMetadata": {},
     "inputWidgets": {},
     "nuid": "1b1c5314-692f-48b7-8590-153c976c06dc",
     "showTitle": false,
     "title": ""
    }
   },
   "outputs": [],
   "source": [
    "dataqio.invoke(\"What is the album name of most popular song based on popularity?\")"
   ]
  },
  {
   "cell_type": "code",
   "execution_count": 0,
   "metadata": {
    "application/vnd.databricks.v1+cell": {
     "cellMetadata": {},
     "inputWidgets": {},
     "nuid": "59aac877-c4b5-417d-8447-4e68a1898a09",
     "showTitle": false,
     "title": ""
    }
   },
   "outputs": [],
   "source": [
    "query = \"What is the total number of rows?\"\n",
    "response = dataqio.invoke(query)\n",
    "print(response)"
   ]
  },
  {
   "cell_type": "markdown",
   "metadata": {
    "application/vnd.databricks.v1+cell": {
     "cellMetadata": {},
     "inputWidgets": {},
     "nuid": "c41adf0f-15fa-45ee-89fd-799041b522c7",
     "showTitle": false,
     "title": ""
    }
   },
   "source": [
    "## Save the Agent to Model Registery in UC\n",
    "\n",
    "Now that our agent is ready and evaluated, we can register it within our Unity Catalog schema. \n",
    "\n",
    "After registering the agent, you can view the agent and models in the **Catalog Explorer**."
   ]
  },
  {
   "cell_type": "code",
   "execution_count": 0,
   "metadata": {
    "application/vnd.databricks.v1+cell": {
     "cellMetadata": {},
     "inputWidgets": {},
     "nuid": "bc73d17a-9107-4396-9e35-46117eed3ae5",
     "showTitle": false,
     "title": ""
    }
   },
   "outputs": [],
   "source": [
    "from mlflow.models import infer_signature\n",
    "import mlflow\n",
    "import langchain\n",
    "\n",
    "# Set model registery to UC\n",
    "mlflow.set_registry_uri(\"databricks-uc\")\n",
    "model_name = f\"{DA.catalog_name}.{DA.schema_name}.multi_stage_demo\"\n",
    "\n",
    "def dataqio_invoke(query: str) -> str:\n",
    "    dataqio = create_pandas_dataframe_agent(\n",
    "        llm_dbrx,\n",
    "        df,\n",
    "        verbose=False,\n",
    "        max_iterations=3,\n",
    "        prefix=prefix,\n",
    "        allow_dangerous_code=True,\n",
    "        agent_executor_kwargs={\n",
    "            \"handle_parsing_errors\": True\n",
    "        }\n",
    "    )    \n",
    "    return dataqio.invoke(query)\n",
    "\n",
    "with mlflow.start_run(run_name=\"multi_stage_demo\") as run:\n",
    "    signature = infer_signature(query, response)\n",
    "    model_info = mlflow.pyfunc.log_model(\n",
    "        python_model=dataqio_invoke,\n",
    "        artifact_path=\"langchain_agent\",\n",
    "        registered_model_name=model_name,   \n",
    "        input_example=query,\n",
    "        signature=signature\n",
    "    )"
   ]
  },
  {
   "cell_type": "code",
   "execution_count": 0,
   "metadata": {
    "application/vnd.databricks.v1+cell": {
     "cellMetadata": {},
     "inputWidgets": {},
     "nuid": "de11f2e9-ff7a-4f2f-83af-8a253956a0fb",
     "showTitle": false,
     "title": ""
    }
   },
   "outputs": [],
   "source": [
    "model_uri = f\"models:/{model_name}/{model_info.registered_model_version}\"\n",
    "model = mlflow.pyfunc.load_model(model_uri)\n",
    "\n",
    "model.predict(\"How machine learning models are stored in Unity Catalog?\")"
   ]
  },
  {
   "cell_type": "markdown",
   "metadata": {
    "application/vnd.databricks.v1+cell": {
     "cellMetadata": {},
     "inputWidgets": {},
     "nuid": "01799fda-8e81-43a6-ac30-25cd846ecf37",
     "showTitle": false,
     "title": ""
    }
   },
   "source": [
    "\n",
    "## Clean up Classroom\n",
    "\n",
    "Run the following cell to remove lessons-specific assets created during this lesson."
   ]
  },
  {
   "cell_type": "code",
   "execution_count": 0,
   "metadata": {
    "application/vnd.databricks.v1+cell": {
     "cellMetadata": {},
     "inputWidgets": {},
     "nuid": "17e82fa1-0474-4e1b-84f0-ad4db8d0ac50",
     "showTitle": false,
     "title": ""
    }
   },
   "outputs": [],
   "source": [
    "DA.cleanup()"
   ]
  },
  {
   "cell_type": "markdown",
   "metadata": {
    "application/vnd.databricks.v1+cell": {
     "cellMetadata": {},
     "inputWidgets": {},
     "nuid": "4bf4d87c-0c1c-471b-8ddf-c51ba268108c",
     "showTitle": false,
     "title": ""
    }
   },
   "source": [
    "\n",
    "## Conclusion\n",
    "\n",
    "In this demo, we explored agent design in Databricks, moving beyond manual system stitching to autonomous agent-based systems. Agents, equipped with decision-making branches, planning outlines, and tools, streamline the process. We created two types of agents: one utilizing a search engine, Wikipedia, and YouTube to recommend movies and another enabling natural language data queries. By leveraging LangChain's capabilities, participants learned to build semi-automated systems, choose appropriate tools, and utilize built-in agents for advanced workflows, including interacting with Pandas DataFrames."
   ]
  },
  {
   "cell_type": "markdown",
   "metadata": {
    "application/vnd.databricks.v1+cell": {
     "cellMetadata": {},
     "inputWidgets": {},
     "nuid": "9a1e4b5c-ed7f-4876-956b-b5d4d67e5fd5",
     "showTitle": false,
     "title": ""
    }
   },
   "source": [
    "## Hepful Resources\n",
    "\n",
    "* **The Databricks Generative AI Cookbook ([https://ai-cookbook.io/](https://ai-cookbook.io/))**: Learning materials and production-ready code to take you from initial POC to high-quality production-ready application using Mosaic AI Agent Evaluation and Mosaic AI Agent Framework on the Databricks platform.\n"
   ]
  },
  {
   "cell_type": "markdown",
   "metadata": {
    "application/vnd.databricks.v1+cell": {
     "cellMetadata": {},
     "inputWidgets": {},
     "nuid": "070a191c-e9c9-4900-ac41-8f605692ea19",
     "showTitle": false,
     "title": ""
    }
   },
   "source": [
    "\n",
    "&copy; 2024 Databricks, Inc. All rights reserved.<br/>\n",
    "Apache, Apache Spark, Spark and the Spark logo are trademarks of the \n",
    "<a href=\"https://www.apache.org/\">Apache Software Foundation</a>.<br/>\n",
    "<br/><a href=\"https://databricks.com/privacy-policy\">Privacy Policy</a> | \n",
    "<a href=\"https://databricks.com/terms-of-use\">Terms of Use</a> | \n",
    "<a href=\"https://help.databricks.com/\">Support</a>"
   ]
  }
 ],
 "metadata": {
  "application/vnd.databricks.v1+notebook": {
   "dashboards": [],
   "environmentMetadata": null,
   "language": "python",
   "notebookMetadata": {
    "pythonIndentUnit": 4
   },
   "notebookName": "3.1 - Agent Design in Databricks",
   "widgets": {}
  }
 },
 "nbformat": 4,
 "nbformat_minor": 0
}
