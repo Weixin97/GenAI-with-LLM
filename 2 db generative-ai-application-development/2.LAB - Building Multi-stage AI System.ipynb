{
 "cells": [
  {
   "cell_type": "markdown",
   "metadata": {
    "application/vnd.databricks.v1+cell": {
     "cellMetadata": {},
     "inputWidgets": {},
     "nuid": "a255c604-fd78-409b-8167-d09dbe239acf",
     "showTitle": false,
     "title": ""
    }
   },
   "source": [
    "\n",
    "<div style=\"text-align: center; line-height: 0; padding-top: 9px;\">\n",
    "  <img src=\"https://databricks.com/wp-content/uploads/2018/03/db-academy-rgb-1200px.png\" alt=\"Databricks Learning\">\n",
    "</div>\n"
   ]
  },
  {
   "cell_type": "markdown",
   "metadata": {
    "application/vnd.databricks.v1+cell": {
     "cellMetadata": {},
     "inputWidgets": {},
     "nuid": "b88621da-c55d-4eaf-af44-641638ddba3e",
     "showTitle": false,
     "title": ""
    }
   },
   "source": [
    "\n",
    "# LAB - Building Multi-stage AI System\n",
    "\n",
    "In this lab, you will construct a multi-stage reasoning system using Databricks' features and LangChain.\n",
    "\n",
    "You will start by building the first chain, which performs a web search using a dataset containing product descriptions from the Red Dot Design Award. Following that, you will create the second chain, which performs an image search using the same dataset. Finally, you will integrate these chains to form a complete multi-stage AI system.\n",
    "\n",
    "\n",
    "**Lab Outline:**\n",
    "\n",
    "In this lab, you will need to complete the following tasks;\n",
    "\n",
    "* **Task 1:** Create a Vector Store\n",
    "\n",
    "* **Task 2:** Build the First Chain (Vector Store Search)\n",
    "\n",
    "* **Task 3:** Build the Second Chain (Product Image)\n",
    "\n",
    "* **Task 4:**  Integrate Chains into a Multi-chain System\n",
    "\n",
    "**📝 Your task:** Complete the **`<FILL_IN>`** sections in the code blocks and follow the other steps as instructed."
   ]
  },
  {
   "cell_type": "markdown",
   "metadata": {
    "application/vnd.databricks.v1+cell": {
     "cellMetadata": {},
     "inputWidgets": {},
     "nuid": "07a13af1-f511-4893-8787-34b75135a4df",
     "showTitle": false,
     "title": ""
    }
   },
   "source": [
    "## Requirements\n",
    "\n",
    "Please review the following requirements before starting the lesson:\n",
    "\n",
    "* To run this notebook, you need to use one of the following Databricks runtime(s): **14.3.x-cpu-ml-scala2.12 14.3.x-scala2.12**"
   ]
  },
  {
   "cell_type": "markdown",
   "metadata": {
    "application/vnd.databricks.v1+cell": {
     "cellMetadata": {},
     "inputWidgets": {},
     "nuid": "8818f8f0-1e46-4dbc-9f79-55c6713c8b12",
     "showTitle": false,
     "title": ""
    }
   },
   "source": [
    "\n",
    "## Classroom Setup\n",
    "\n",
    "Before starting the demo, run the provided classroom setup script. This script will define configuration variables necessary for the demo. Execute the following cell:"
   ]
  },
  {
   "cell_type": "code",
   "execution_count": 0,
   "metadata": {
    "application/vnd.databricks.v1+cell": {
     "cellMetadata": {},
     "inputWidgets": {},
     "nuid": "8feec2f7-2beb-42d6-a961-d1e32a5fe7af",
     "showTitle": false,
     "title": ""
    }
   },
   "outputs": [],
   "source": [
    "%pip install -U --quiet databricks-sdk==0.29.0 langchain-core==0.2.24 databricks-vectorsearch==0.40 langchain-community==0.2.10 typing-extensions==4.12.2 youtube_search Wikipedia grandalf mlflow==2.14.3 pydantic==2.8.2\n",
    "dbutils.library.restartPython()"
   ]
  },
  {
   "cell_type": "code",
   "execution_count": 0,
   "metadata": {
    "application/vnd.databricks.v1+cell": {
     "cellMetadata": {},
     "inputWidgets": {},
     "nuid": "d72c5f79-6e92-4bf0-91f5-6b2812cbc1f0",
     "showTitle": false,
     "title": ""
    }
   },
   "outputs": [],
   "source": [
    "%run ../Includes/Classroom-Setup-02LAB"
   ]
  },
  {
   "cell_type": "markdown",
   "metadata": {
    "application/vnd.databricks.v1+cell": {
     "cellMetadata": {},
     "inputWidgets": {},
     "nuid": "aa88a26b-3b19-4d90-acec-2ae17ae7f297",
     "showTitle": false,
     "title": ""
    }
   },
   "source": [
    "**Other Conventions:**\n",
    "\n",
    "Throughout this demo, we'll refer to the object `DA`. This object, provided by Databricks Academy, contains variables such as your username, catalog name, schema name, working directory, and dataset locations. Run the code block below to view these details:"
   ]
  },
  {
   "cell_type": "code",
   "execution_count": 0,
   "metadata": {
    "application/vnd.databricks.v1+cell": {
     "cellMetadata": {},
     "inputWidgets": {},
     "nuid": "4013d140-738f-4f86-be12-0421a92cc032",
     "showTitle": false,
     "title": ""
    }
   },
   "outputs": [],
   "source": [
    "print(f\"Username:          {DA.username}\")\n",
    "print(f\"Catalog Name:      {DA.catalog_name}\")\n",
    "print(f\"Schema Name:       {DA.schema_name}\")\n",
    "print(f\"Working Directory: {DA.paths.working_dir}\")\n",
    "print(f\"Dataset Location:  {DA.paths.datasets}\")"
   ]
  },
  {
   "cell_type": "markdown",
   "metadata": {
    "application/vnd.databricks.v1+cell": {
     "cellMetadata": {},
     "inputWidgets": {},
     "nuid": "da665254-5c8a-41ec-a91b-dbe3249ebc36",
     "showTitle": false,
     "title": ""
    }
   },
   "source": [
    "## Load Dataset\n",
    "\n",
    "Before you start building the AI chain, you will need to load dataset and save to a Delta table. The dataset contains information about the products that have won the Red Dot Design Award. This table will be used for creating embeddings."
   ]
  },
  {
   "cell_type": "code",
   "execution_count": 0,
   "metadata": {
    "application/vnd.databricks.v1+cell": {
     "cellMetadata": {},
     "inputWidgets": {},
     "nuid": "54f3d535-6d9e-4dc2-ba15-3f57569903a7",
     "showTitle": false,
     "title": ""
    }
   },
   "outputs": [],
   "source": [
    "from datasets import load_dataset\n",
    "from pyspark.sql import functions as F\n",
    "\n",
    "# Define a persistent cache directory\n",
    "cache_dir = \"/dbfs/cache/\"\n",
    "\n",
    "# Load dataset from Hugging Face, limit to 50%\n",
    "dataset = load_dataset(\"xiyuez/red-dot-design-award-product-description\", split=\"train[:50%]\", cache_dir=cache_dir)\n",
    "\n",
    "# The dataset has product, category, and text columns\n",
    "product = dataset['product']\n",
    "category = dataset['category']\n",
    "text = dataset['text']\n",
    "vs_source_table_fullname = f\"{DA.catalog_name}.{DA.schema_name}.product_text\"\n",
    "\n",
    "# Create DataFrame\n",
    "df = spark.createDataFrame(zip(product, category, text), [\"product\", \"category\", \"text\"])\n",
    "# Save DataFrame as a Delta table\n",
    "df.write.format(\"delta\").mode(\"overwrite\").saveAsTable(vs_source_table_fullname)\n",
    "\n",
    "# add id column\n",
    "df = df.withColumn(\"id\", F.monotonically_increasing_id())\n",
    "\n",
    "# Save DataFrame as a Delta table with the new schema\n",
    "df.write.mode(\"overwrite\").option(\"overwriteSchema\", \"true\").saveAsTable(vs_source_table_fullname)\n",
    "\n",
    "# Enable Change Data Feed for Delta table\n",
    "spark.sql(f\"ALTER TABLE {vs_source_table_fullname} SET TBLPROPERTIES (delta.enableChangeDataFeed = true)\")"
   ]
  },
  {
   "cell_type": "markdown",
   "metadata": {
    "application/vnd.databricks.v1+cell": {
     "cellMetadata": {},
     "inputWidgets": {},
     "nuid": "48adae36-be85-4fbc-8b12-7d6fda5c92fe",
     "showTitle": false,
     "title": ""
    }
   },
   "source": [
    "%md \n",
    "## Task 1: Create a Vector Store\n",
    "\n",
    "In this task, you will compute embeddings for the dataset containing information about the products that have won the Red Dot Design Award and store them in a Vector Search index using Databricks Vector Search.\n",
    "\n",
    "**Instructions:**\n",
    "\n",
    "* **Store in Vector Store:**\n",
    "   - Create a Vector Search index. \n",
    "   - Create the index using **managed embeddings**. Use the **`text`** field of the dataset for indexing.\n"
   ]
  },
  {
   "cell_type": "code",
   "execution_count": 0,
   "metadata": {
    "application/vnd.databricks.v1+cell": {
     "cellMetadata": {},
     "inputWidgets": {},
     "nuid": "269d348f-d2af-4bf9-928b-fc403cec22eb",
     "showTitle": false,
     "title": ""
    }
   },
   "outputs": [],
   "source": [
    "# assign vs search endpoint by username\n",
    "vs_endpoint_prefix = \"vs_endpoint_\"\n",
    "vs_endpoint_fallback = \"vs_endpoint_fallback\"\n",
    "vs_endpoint_name = vs_endpoint_prefix+str(get_fixed_integer(DA.unique_name(\"_\")))\n",
    "print(f\"Vector Endpoint name: {vs_endpoint_name}. In case of any issues, replace variable `vs_endpoint_name` with `vs_endpoint_fallback` in demos and labs.\")"
   ]
  },
  {
   "cell_type": "code",
   "execution_count": 0,
   "metadata": {
    "application/vnd.databricks.v1+cell": {
     "cellMetadata": {},
     "inputWidgets": {},
     "nuid": "01426ba9-0d57-447b-9bfc-bbe90c2d6df4",
     "showTitle": false,
     "title": ""
    }
   },
   "outputs": [],
   "source": [
    "from databricks.vector_search.client import VectorSearchClient\n",
    "\n",
    "# Endpoint and table names\n",
    "vs_index_table_fullname = f\"{DA.catalog_name}.{DA.schema_name}.product_embeddings\"\n",
    "vs_source_table_fullname = f\"{DA.catalog_name}.{DA.schema_name}.product_text\"\n",
    "\n",
    "# Create compute endpoint\n",
    "vsc = VectorSearchClient()\n",
    "create_vs_endpoint(vs_endpoint_name)\n",
    "    \n",
    "# Create or sync the index\n",
    "if not index_exists(vsc, vs_endpoint_name, vs_index_table_fullname):\n",
    "    print(f\"Creating index {vs_index_table_fullname} on endpoint {vs_endpoint_name}...\")\n",
    "        \n",
    "    vsc.create_delta_sync_index(\n",
    "        endpoint_name=vs_endpoint_name,\n",
    "        index_name=vs_index_table_fullname,\n",
    "        source_table_name= vs_source_table_fullname,\n",
    "        pipeline_type=\"TRIGGERED\", #Sync needs to be manually triggered\n",
    "        primary_key=\"id\",\n",
    "        embedding_source_column=\"text\",\n",
    "        embedding_model_endpoint_name=\"databricks-bge-large-en\"\n",
    "        )\n",
    "\n",
    "else:\n",
    "    # Trigger a sync to update our vs content with the new data saved in the table\n",
    "    vsc.get_index(vs_endpoint_name, vs_index_table_fullname).sync()\n",
    "\n",
    "# Let's wait for the index to be ready and all our embeddings to be created and indexed\n",
    "wait_for_index_to_be_ready(vsc, vs_endpoint_name, vs_index_table_fullname)"
   ]
  },
  {
   "cell_type": "markdown",
   "metadata": {
    "application/vnd.databricks.v1+cell": {
     "cellMetadata": {},
     "inputWidgets": {},
     "nuid": "313a396c-4f74-49c2-ba60-1e1484ee1a7a",
     "showTitle": false,
     "title": ""
    }
   },
   "source": [
    "## Task 2: Build the First Chain (Vector Store Search)\n",
    "\n",
    "In this task, you will create first chain that will search for product details from the Vector Store using a dataset containing product descriptions from the Red Dot Design Award.\n",
    "\n",
    "**Instructions:**\n",
    "   - Configure components for the first chain to perform a search using the Vector Store.\n",
    "   - Utilize the loaded dataset to generate prompts for Vector Store search queries.\n",
    "   - Set up retrieval to extract relevant product details based on the generated prompts and search results.\n"
   ]
  },
  {
   "cell_type": "code",
   "execution_count": 0,
   "metadata": {
    "application/vnd.databricks.v1+cell": {
     "cellMetadata": {},
     "inputWidgets": {},
     "nuid": "ee522b1c-93a1-4a32-8e75-c1c38c308446",
     "showTitle": false,
     "title": ""
    }
   },
   "outputs": [],
   "source": [
    "from langchain.chains import create_retrieval_chain\n",
    "from langchain.chains.combine_documents import create_stuff_documents_chain\n",
    "from langchain.prompts import PromptTemplate\n",
    "from langchain.chat_models import ChatDatabricks\n",
    "from langchain.vectorstores import DatabricksVectorSearch\n",
    "\n",
    "# Define the Databricks Chat model: DBRX\n",
    "llm_dbrx = ChatDatabricks(endpoint=\"databricks-dbrx-instruct\", max_tokens=1000)\n",
    "\n",
    "# Define the prompt template for generating search queries\n",
    "prompt_template_vs = PromptTemplate.from_template(\n",
    "    \"\"\"\n",
    "    You are a product design expert and your task is to create creative products that are very good and can receive design awards.\n",
    "\n",
    "    Write a product description that is similar to the following product description.\n",
    "\n",
    "    Use following product descriptions as example;\n",
    "\n",
    "    <context>\n",
    "    {context}\n",
    "    </context>\n",
    "\n",
    "    Question: {input}\n",
    "\n",
    "    Answer:\n",
    "    \"\"\"\n",
    ")\n",
    "\n",
    "# Construct the RetrievalQA chain for Vector Store search\n",
    "def get_retriever(persist_dir=None):\n",
    "    vsc = VectorSearchClient(disable_notice=True)\n",
    "    vs_index = vsc.get_index(vs_endpoint_name, vs_index_table_fullname)\n",
    "    vectorstore = DatabricksVectorSearch(vs_index, text_column=\"text\")\n",
    "    return vectorstore.as_retriever(search_kwargs={\"k\": 4})\n",
    "\n",
    "# Construct the chain for question-answering\n",
    "question_answer_chain = create_stuff_documents_chain(llm_dbrx, prompt_template_vs)\n",
    "chain1 = create_retrieval_chain(get_retriever(), question_answer_chain)\n",
    "\n",
    "# Invoke the chain with an example query   \n",
    "response = chain1.invoke({\"input\": \"hair dryer with mobile app control\"})\n",
    "print(response['answer'])"
   ]
  },
  {
   "cell_type": "markdown",
   "metadata": {
    "application/vnd.databricks.v1+cell": {
     "cellMetadata": {},
     "inputWidgets": {},
     "nuid": "c02c3760-f103-4361-8e6a-433de26fad6d",
     "showTitle": false,
     "title": ""
    }
   },
   "source": [
    "## Task 3: Build the Second Chain (Product Image)\n",
    "\n",
    "Construct the second chain to search for images related to the product descriptions obtained from the dataset using the DALL-E API.\n",
    "\n",
    "**Note🚨:** The **OPENAI API key** for **`DALL-E`** is already set up in the your lab environment, so no additional configuration is required. You need to set it up if you are running this notebook in your own environment.\n",
    "\n",
    "**Instructions:**\n",
    "\n",
    "  - Define a **`GetProductImageRunnable`** class that implements the **`Runnable`** interface.\n",
    "  - Generate the HTML content to display the product image retrieved from the **DALL-E API**.\n",
    "  - Use the **`display`** function from IPython's **`display`** module to render the HTML content and display the product image.\n"
   ]
  },
  {
   "cell_type": "code",
   "execution_count": 0,
   "metadata": {
    "application/vnd.databricks.v1+cell": {
     "cellMetadata": {},
     "inputWidgets": {},
     "nuid": "fc1862d4-ab35-4fce-91c8-c70ccb2f0963",
     "showTitle": false,
     "title": ""
    }
   },
   "outputs": [],
   "source": [
    "import os\n",
    "from langchain_community.utilities.dalle_image_generator import DallEAPIWrapper\n",
    "from langchain_core.runnables import RunnableLambda\n",
    "from IPython.display import display, HTML\n",
    "\n",
    "# Set OpenAI API key\n",
    "os.environ[\"OPENAI_API_KEY\"] = dbutils.secrets.get(\"llm_scope\", \"openai_token\")\n",
    "\n",
    "# Generate image using first chain\n",
    "def get_product_image(input):\n",
    "    image_url = DallEAPIWrapper().run(input[\"input\"])\n",
    "    return image_url\n",
    "\n",
    "# Instantiate the runnable\n",
    "chain2 = RunnableLambda(get_product_image)\n",
    "\n",
    "# Get the image URL\n",
    "image_url = chain2.invoke({\"input\": \"a hair dryer with mobile app control\"})\n",
    "\n",
    "# Construct HTML content with the retrieved image URL\n",
    "html_product_content = f\"<img src='{image_url}'/>\"\n",
    "\n",
    "# Display the HTML content\n",
    "display(HTML(html_product_content))"
   ]
  },
  {
   "cell_type": "code",
   "execution_count": 0,
   "metadata": {
    "application/vnd.databricks.v1+cell": {
     "cellMetadata": {},
     "inputWidgets": {},
     "nuid": "94bc0e9e-a9c7-46e4-9044-1a389ad99670",
     "showTitle": false,
     "title": ""
    }
   },
   "outputs": [],
   "source": [
    "dbutils.secrets.help()"
   ]
  },
  {
   "cell_type": "markdown",
   "metadata": {
    "application/vnd.databricks.v1+cell": {
     "cellMetadata": {},
     "inputWidgets": {},
     "nuid": "bfc5b82f-cb91-49c8-8354-29fa75e959bd",
     "showTitle": false,
     "title": ""
    }
   },
   "source": [
    "## Task 4: Integrate Chains into a Multi-chain System\n",
    "\n",
    "In this task, you will link the individual chains created in Task 2 and Task 3 together to form a multi-chain system that can handle multi-stage reasoning.\n",
    "\n",
    "**Instructions:**\n",
    "\n",
    "   - Define the Databricks **`DBRX Chat model`** for processing text inputs.\n",
    "   - Create a prompt template to generate an **`HTML page`** for displaying product details, including both the product description and image.\n",
    "   - Construct the **`Multi-Chain System`**  by combining the outputs of the previous chains, including the product description and image.\n",
    "   - Invoke the multi-chain system with the input data to generate the HTML page for the specified product.\n"
   ]
  },
  {
   "cell_type": "code",
   "execution_count": 0,
   "metadata": {
    "application/vnd.databricks.v1+cell": {
     "cellMetadata": {},
     "inputWidgets": {},
     "nuid": "09ca4cba-71e0-4c4a-839b-7ef37573319c",
     "showTitle": false,
     "title": ""
    }
   },
   "outputs": [],
   "source": [
    "from langchain.schema.runnable import RunnablePassthrough\n",
    "from langchain_core.output_parsers import StrOutputParser\n",
    "\n",
    "# Define the prompt template for generating the HTML page\n",
    "prompt_template_1 = PromptTemplate.from_template(\n",
    "    \"\"\"Create an HTML page for the following product details:\n",
    "    \n",
    "    Product Description: {description}\n",
    "    \n",
    "    Product Image: {product_image}\n",
    "\n",
    "    Return a valid HTML code.\n",
    "    \"\"\"\n",
    ")\n",
    "\n",
    "\n",
    "# Construct the multi-chain system\n",
    "chain3 = (\n",
    "    {\n",
    "        \"input\": RunnablePassthrough(), \n",
    "        \"description\": chain1, \n",
    "        \"product_image\": chain2  \n",
    "    }\n",
    "    | prompt_template_1 \n",
    "    | llm_dbrx \n",
    "    | StrOutputParser()\n",
    ")\n",
    "\n",
    "# Invoke the chain with question and query\n",
    "query = {\n",
    "    \"input\": \"hair dryer with mobile app control\"      \n",
    "}\n",
    "output_html = chain3.invoke(query)\n",
    "\n",
    "# Display the generated HTML output\n",
    "display(HTML(output_html))"
   ]
  },
  {
   "cell_type": "markdown",
   "metadata": {
    "application/vnd.databricks.v1+cell": {
     "cellMetadata": {},
     "inputWidgets": {},
     "nuid": "2089733b-ee74-4036-be98-81d289c19762",
     "showTitle": false,
     "title": ""
    }
   },
   "source": [
    "## Task 5: Save the Chain to Model Registery in UC\n",
    "\n",
    "In this task, you will save the multi-stage chain system within our Unity Catalog.\n",
    "\n",
    "**Instructions:**\n",
    "\n",
    "   - Define a UC path as the model name.\n",
    "   - Create a prompt template to generate an **`HTML page`** for displaying product details, including both the product description and image.\n",
    "   - Construct the **`Multi-Chain System`**  by combining the outputs of the previous chains, including the product description and image.\n",
    "   - Invoke the multi-chain system with the input data to generate the HTML page for the specified product.\n",
    "\n",
    "\n",
    "\n",
    "Now that our chain is ready and evaluated, we can register it within our Unity Catalog schema. \n",
    "\n",
    "After registering the chain, you can view the chain and models in the **Catalog Explorer**."
   ]
  },
  {
   "cell_type": "code",
   "execution_count": 0,
   "metadata": {
    "application/vnd.databricks.v1+cell": {
     "cellMetadata": {},
     "inputWidgets": {},
     "nuid": "41395d26-8d49-4219-8e00-f37ef9e41538",
     "showTitle": false,
     "title": ""
    }
   },
   "outputs": [],
   "source": [
    "from mlflow.models import infer_signature\n",
    "import mlflow\n",
    "\n",
    "\n",
    "# Set model registery to UC\n",
    "mlflow.set_registry_uri(\"databricks-uc\")\n",
    "model_name = f\"{DA.catalog_name}.{DA.schema_name}.multi_stage_lab\"\n",
    "\n",
    "with mlflow.start_run(run_name=\"multi_stage_lab\") as run:\n",
    "    signature = infer_signature(query, output_html)\n",
    "    model_info = mlflow.langchain.log_model(\n",
    "        chain3,\n",
    "        loader_fn=get_retriever, \n",
    "        artifact_path=\"chain\",\n",
    "        registered_model_name=model_name,\n",
    "        input_example=query,\n",
    "        signature=signature\n",
    "    )\n",
    "\n",
    "model_uri = f\"models:/{model_name}/{model_info.registered_model_version}\"\n",
    "model = mlflow.langchain.load_model(model_uri)\n",
    "\n",
    "output_html = model.invoke(query)\n",
    "display(HTML(output_html))"
   ]
  },
  {
   "cell_type": "markdown",
   "metadata": {
    "application/vnd.databricks.v1+cell": {
     "cellMetadata": {},
     "inputWidgets": {},
     "nuid": "fba805dc-aaf9-41ba-bb78-d259a6de68b5",
     "showTitle": false,
     "title": ""
    }
   },
   "source": [
    "\n",
    "## Clean up Classroom\n",
    "\n",
    "Run the following cell to remove lessons-specific assets created during this lesson."
   ]
  },
  {
   "cell_type": "code",
   "execution_count": 0,
   "metadata": {
    "application/vnd.databricks.v1+cell": {
     "cellMetadata": {},
     "inputWidgets": {},
     "nuid": "e057f040-3cb9-47cc-8ac7-2be74589d1c0",
     "showTitle": false,
     "title": ""
    }
   },
   "outputs": [],
   "source": [
    "DA.cleanup()"
   ]
  },
  {
   "cell_type": "markdown",
   "metadata": {
    "application/vnd.databricks.v1+cell": {
     "cellMetadata": {},
     "inputWidgets": {},
     "nuid": "dfe4004b-231e-4a23-9e40-757e606e0914",
     "showTitle": false,
     "title": ""
    }
   },
   "source": [
    "\n",
    "## Conclusion\n",
    "\n",
    "In this lab, you've learned how to build a multi-stage AI system using Databricks and LangChain. By integrating multiple chains, you can perform complex reasoning tasks such as searching for product details and retrieving related images. This approach enables the development of sophisticated AI systems capable of handling diverse tasks efficiently.\n"
   ]
  },
  {
   "cell_type": "markdown",
   "metadata": {
    "application/vnd.databricks.v1+cell": {
     "cellMetadata": {},
     "inputWidgets": {},
     "nuid": "b4dcd763-9318-421d-afea-73fa11bfb67b",
     "showTitle": false,
     "title": ""
    }
   },
   "source": [
    "\n",
    "&copy; 2024 Databricks, Inc. All rights reserved.<br/>\n",
    "Apache, Apache Spark, Spark and the Spark logo are trademarks of the \n",
    "<a href=\"https://www.apache.org/\">Apache Software Foundation</a>.<br/>\n",
    "<br/><a href=\"https://databricks.com/privacy-policy\">Privacy Policy</a> | \n",
    "<a href=\"https://databricks.com/terms-of-use\">Terms of Use</a> | \n",
    "<a href=\"https://help.databricks.com/\">Support</a>"
   ]
  }
 ],
 "metadata": {
  "application/vnd.databricks.v1+notebook": {
   "dashboards": [],
   "environmentMetadata": null,
   "language": "python",
   "notebookMetadata": {
    "pythonIndentUnit": 4
   },
   "notebookName": "2.LAB - Building Multi-stage AI System",
   "widgets": {}
  }
 },
 "nbformat": 4,
 "nbformat_minor": 0
}
