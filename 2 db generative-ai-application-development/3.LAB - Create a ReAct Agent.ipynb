{
 "cells": [
  {
   "cell_type": "markdown",
   "metadata": {
    "application/vnd.databricks.v1+cell": {
     "cellMetadata": {},
     "inputWidgets": {},
     "nuid": "8ca5ba19-cf5d-4a0b-a2aa-8f8e2bab9d79",
     "showTitle": false,
     "title": ""
    }
   },
   "source": [
    "\n",
    "<div style=\"text-align: center; line-height: 0; padding-top: 9px;\">\n",
    "  <img src=\"https://databricks.com/wp-content/uploads/2018/03/db-academy-rgb-1200px.png\" alt=\"Databricks Learning\">\n",
    "</div>\n"
   ]
  },
  {
   "cell_type": "markdown",
   "metadata": {
    "application/vnd.databricks.v1+cell": {
     "cellMetadata": {},
     "inputWidgets": {},
     "nuid": "b01f3f9a-a3dc-4221-a112-3bf49223785e",
     "showTitle": false,
     "title": ""
    }
   },
   "source": [
    "\n",
    "# LAB - Create a ReAct Agent\n",
    "\n",
    "In this lab we will create a virtual stock advisor agent using that uses the **ReAct** prompting. This agent will reason and act based on the prompts and tools provided. \n",
    "\n",
    "Of course, the agent is build for demonstration purposes and it the answers shouldn't be used as investment advise! \n",
    "\n",
    "\n",
    "**Lab Outline:**\n",
    "\n",
    "In this lab, you will need to complete the following tasks;\n",
    "\n",
    "* **Task 1 :** Define the agent brain\n",
    "\n",
    "* **Task 2 :** Define the agent tools\n",
    "\n",
    "* **Task 3 :** Define an agent logic\n",
    "\n",
    "* **Task 4 :** Create the agent \n",
    "\n",
    "* **Task 5 :** Run the agent\n",
    "\n",
    "**📝 Your task:** Complete the **`<FILL_IN>`** sections in the code blocks and follow the other steps as instructed."
   ]
  },
  {
   "cell_type": "markdown",
   "metadata": {
    "application/vnd.databricks.v1+cell": {
     "cellMetadata": {},
     "inputWidgets": {},
     "nuid": "a45e7b31-7a8b-45f2-a85c-09e758e6937f",
     "showTitle": false,
     "title": ""
    }
   },
   "source": [
    "## Requirements\n",
    "\n",
    "Please review the following requirements before starting the lesson:\n",
    "\n",
    "* To run this notebook, you need to use one of the following Databricks runtime(s): **14.3.x-cpu-ml-scala2.12 14.3.x-scala2.12**"
   ]
  },
  {
   "cell_type": "markdown",
   "metadata": {
    "application/vnd.databricks.v1+cell": {
     "cellMetadata": {},
     "inputWidgets": {},
     "nuid": "8cbedbf4-d939-4116-b25c-b1c904bc658e",
     "showTitle": false,
     "title": ""
    }
   },
   "source": [
    "\n",
    "## Classroom Setup\n",
    "\n",
    "Before starting the lab, run the provided classroom setup scripts. These scripts will install the required libraries and configure variables which are needed for the lab."
   ]
  },
  {
   "cell_type": "code",
   "execution_count": 0,
   "metadata": {
    "application/vnd.databricks.v1+cell": {
     "cellMetadata": {},
     "inputWidgets": {},
     "nuid": "9e460039-7cc0-470b-aadf-487e76297ead",
     "showTitle": false,
     "title": ""
    }
   },
   "outputs": [],
   "source": [
    "%pip install --upgrade --quiet langchain==0.2.11 langchain_community==0.2.10 yfinance==0.2.41 wikipedia==1.4.0 youtube-search mlflow==2.14.3\n",
    "\n",
    "dbutils.library.restartPython()"
   ]
  },
  {
   "cell_type": "code",
   "execution_count": 0,
   "metadata": {
    "application/vnd.databricks.v1+cell": {
     "cellMetadata": {},
     "inputWidgets": {},
     "nuid": "75e2461f-3e0f-4c28-9850-2669902879f5",
     "showTitle": false,
     "title": ""
    }
   },
   "outputs": [],
   "source": [
    "%run ../Includes/Classroom-Setup-LAB"
   ]
  },
  {
   "cell_type": "code",
   "execution_count": 0,
   "metadata": {
    "application/vnd.databricks.v1+cell": {
     "cellMetadata": {},
     "inputWidgets": {},
     "nuid": "1bade01f-890a-4bbf-b348-c9a0ebcd3b15",
     "showTitle": false,
     "title": ""
    }
   },
   "outputs": [],
   "source": [
    "import mlflow\n",
    "mlflow.langchain.autolog()"
   ]
  },
  {
   "cell_type": "markdown",
   "metadata": {
    "application/vnd.databricks.v1+cell": {
     "cellMetadata": {},
     "inputWidgets": {},
     "nuid": "23c9d5df-eccf-47ae-a64c-445925dce375",
     "showTitle": false,
     "title": ""
    }
   },
   "source": [
    "**Other Conventions:**\n",
    "\n",
    "Throughout this demo, we'll refer to the object `DA`. This object, provided by Databricks Academy, contains variables such as your username, catalog name, schema name, working directory, and dataset locations. Run the code block below to view these details:"
   ]
  },
  {
   "cell_type": "code",
   "execution_count": 0,
   "metadata": {
    "application/vnd.databricks.v1+cell": {
     "cellMetadata": {},
     "inputWidgets": {},
     "nuid": "292b83d1-df70-46db-bedf-9cd69a22c07c",
     "showTitle": false,
     "title": ""
    }
   },
   "outputs": [],
   "source": [
    "print(f\"Username:          {DA.username}\")\n",
    "print(f\"Catalog Name:      {DA.catalog_name}\")\n",
    "print(f\"Schema Name:       {DA.schema_name}\")\n",
    "print(f\"Working Directory: {DA.paths.working_dir}\")\n",
    "print(f\"Dataset Location:  {DA.paths.datasets}\")"
   ]
  },
  {
   "cell_type": "markdown",
   "metadata": {
    "application/vnd.databricks.v1+cell": {
     "cellMetadata": {},
     "inputWidgets": {},
     "nuid": "1d3cd16f-fac4-44f4-b26c-06c220e86373",
     "showTitle": false,
     "title": ""
    }
   },
   "source": [
    "## Task 1: Define the Brain of the Agent\n",
    "\n",
    "Let's start by defining the agent brain using one of the available LLMs on Databricks.\n",
    "\n",
    "* For this lab, use **databricks-dbrx-instruct** \n",
    "\n",
    "* Define the maximum number of tokens"
   ]
  },
  {
   "cell_type": "code",
   "execution_count": 0,
   "metadata": {
    "application/vnd.databricks.v1+cell": {
     "cellMetadata": {},
     "inputWidgets": {},
     "nuid": "5c99ff91-81da-4cd5-b42f-46e2a022cbfe",
     "showTitle": false,
     "title": ""
    }
   },
   "outputs": [],
   "source": [
    "from langchain.agents import AgentType, initialize_agent\n",
    "from langchain_community.chat_models import ChatDatabricks\n",
    "\n",
    "# define the brain\n",
    "llm_dbrx = ChatDatabricks(endpoint=\"databricks-dbrx-instruct\", max_tokens = 2500)"
   ]
  },
  {
   "cell_type": "code",
   "execution_count": 0,
   "metadata": {
    "application/vnd.databricks.v1+cell": {
     "cellMetadata": {},
     "inputWidgets": {},
     "nuid": "592bd79e-a32d-4e2f-8a75-b8dd143b0969",
     "showTitle": false,
     "title": ""
    }
   },
   "outputs": [],
   "source": [
    "# let's test the brain\n",
    "llm_dbrx.invoke(\"Hi! How are you?\")"
   ]
  },
  {
   "cell_type": "markdown",
   "metadata": {
    "application/vnd.databricks.v1+cell": {
     "cellMetadata": {},
     "inputWidgets": {},
     "nuid": "948db582-e3d3-4e40-8976-ebda31cdd5a2",
     "showTitle": false,
     "title": ""
    }
   },
   "source": [
    "## Task 2 : Define Tools that the Agent Will Use\n",
    "\n",
    "For an agent the toolset is a crucial component to complete the task define. The agent will reason for the next action to take and an appropriate tool will be used to complete the action.\n",
    "\n",
    "For our stock advisor agent, we will use following tools;\n",
    "\n",
    "* **Wikipedia tool**: For searching company details. [[LangChain Doc](https://python.langchain.com/docs/integrations/tools/wikipedia/)]\n",
    "\n",
    "* **YahooFinance News tool**: This will be used for aggregating latest news about a stock. [[LangChain Doc](https://python.langchain.com/docs/integrations/tools/yahoo_finance_news/)]\n",
    "\n",
    "* **YouTube search tool**: This will be used to search for review videos about the latest financial reports. [[LangChain Doc](https://python.langchain.com/docs/integrations/tools/youtube/)]"
   ]
  },
  {
   "cell_type": "markdown",
   "metadata": {
    "application/vnd.databricks.v1+cell": {
     "cellMetadata": {},
     "inputWidgets": {},
     "nuid": "0ca0eb9e-c8fa-4e19-88c6-770d51c308c0",
     "showTitle": false,
     "title": ""
    }
   },
   "source": [
    "### Wikipedia Tool"
   ]
  },
  {
   "cell_type": "code",
   "execution_count": 0,
   "metadata": {
    "application/vnd.databricks.v1+cell": {
     "cellMetadata": {},
     "inputWidgets": {},
     "nuid": "0a0c4171-2835-456f-8b3f-7dbdfe7351c4",
     "showTitle": false,
     "title": ""
    }
   },
   "outputs": [],
   "source": [
    "from langchain.tools import WikipediaQueryRun\n",
    "from langchain_community.utilities import WikipediaAPIWrapper\n",
    "\n",
    "api_wrapper = WikipediaAPIWrapper(top_k_results=3, doc_content_chars_max=1000)\n",
    "tool_wiki = WikipediaQueryRun(api_wrapper=api_wrapper)"
   ]
  },
  {
   "cell_type": "markdown",
   "metadata": {
    "application/vnd.databricks.v1+cell": {
     "cellMetadata": {},
     "inputWidgets": {},
     "nuid": "a6f16a17-4fcb-4e90-bfc3-a5b5acaf83ab",
     "showTitle": false,
     "title": ""
    }
   },
   "source": [
    "### YahooFinance News Tool"
   ]
  },
  {
   "cell_type": "code",
   "execution_count": 0,
   "metadata": {
    "application/vnd.databricks.v1+cell": {
     "cellMetadata": {},
     "inputWidgets": {},
     "nuid": "8e272621-0cc4-433b-be9b-6d60461598af",
     "showTitle": false,
     "title": ""
    }
   },
   "outputs": [],
   "source": [
    "from langchain_community.tools.yahoo_finance_news import YahooFinanceNewsTool\n",
    "\n",
    "tool_finance = YahooFinanceNewsTool()"
   ]
  },
  {
   "cell_type": "markdown",
   "metadata": {
    "application/vnd.databricks.v1+cell": {
     "cellMetadata": {},
     "inputWidgets": {},
     "nuid": "a1731488-573f-4c32-8782-f233cf062f4c",
     "showTitle": false,
     "title": ""
    }
   },
   "source": [
    "### YouTube Search Tool"
   ]
  },
  {
   "cell_type": "code",
   "execution_count": 0,
   "metadata": {
    "application/vnd.databricks.v1+cell": {
     "cellMetadata": {},
     "inputWidgets": {},
     "nuid": "0de626ef-6fba-4452-bea3-17cb955d1436",
     "showTitle": false,
     "title": ""
    }
   },
   "outputs": [],
   "source": [
    "from langchain_community.tools import YouTubeSearchTool\n",
    "\n",
    "tool_youtube = YouTubeSearchTool()"
   ]
  },
  {
   "cell_type": "markdown",
   "metadata": {
    "application/vnd.databricks.v1+cell": {
     "cellMetadata": {},
     "inputWidgets": {},
     "nuid": "7a628ac6-4dd1-4385-aea2-9ab9c8f9467d",
     "showTitle": false,
     "title": ""
    }
   },
   "source": [
    "### Define Toolset\n",
    "\n",
    "Next, add all tools together to be used in the next step."
   ]
  },
  {
   "cell_type": "code",
   "execution_count": 0,
   "metadata": {
    "application/vnd.databricks.v1+cell": {
     "cellMetadata": {},
     "inputWidgets": {},
     "nuid": "70384230-dac5-4240-9696-d3ea9a61ead4",
     "showTitle": false,
     "title": ""
    }
   },
   "outputs": [],
   "source": [
    "tools = [tool_wiki, tool_youtube, tool_finance]"
   ]
  },
  {
   "cell_type": "markdown",
   "metadata": {
    "application/vnd.databricks.v1+cell": {
     "cellMetadata": {},
     "inputWidgets": {},
     "nuid": "a3632f99-a091-49e9-b18f-45529f528268",
     "showTitle": false,
     "title": ""
    }
   },
   "source": [
    "## Tasks 3: Define Agent Logic\n",
    "\n",
    "Agent needs a planning logic while doing reasoning and defining actions. Here you will use a common LangChain prompt template."
   ]
  },
  {
   "cell_type": "code",
   "execution_count": 0,
   "metadata": {
    "application/vnd.databricks.v1+cell": {
     "cellMetadata": {},
     "inputWidgets": {},
     "nuid": "7b03b3b4-f091-4ed7-8f67-2fe87b65a38e",
     "showTitle": false,
     "title": ""
    }
   },
   "outputs": [],
   "source": [
    "template = \"\"\"Answer the following questions as best you can. You have access to the following tools:\n",
    "\n",
    "{tools}\n",
    "\n",
    "Use the following format:\n",
    "\n",
    "Question: the input question you must answer\n",
    "Thought: you should always think about what to do\n",
    "Action: the action to take, should be one of [{tool_names}]\n",
    "Action Input: the input to the action\n",
    "Observation: the result of the action\n",
    "... (this Thought/Action/Action Input/Observation can repeat N times)\n",
    "Thought: I now know the final answer\n",
    "Final Answer: the final answer to the original input question\n",
    "\n",
    "Begin!\n",
    "\n",
    "Question: {input}\n",
    "Thought:{agent_scratchpad}\"\"\""
   ]
  },
  {
   "cell_type": "code",
   "execution_count": 0,
   "metadata": {
    "application/vnd.databricks.v1+cell": {
     "cellMetadata": {},
     "inputWidgets": {},
     "nuid": "3594f512-07c2-4667-aca8-f3490b37b3fc",
     "showTitle": false,
     "title": ""
    }
   },
   "outputs": [],
   "source": [
    "from langchain.prompts import PromptTemplate\n",
    "\n",
    "prompt= PromptTemplate.from_template(template)"
   ]
  },
  {
   "cell_type": "markdown",
   "metadata": {
    "application/vnd.databricks.v1+cell": {
     "cellMetadata": {},
     "inputWidgets": {},
     "nuid": "f3f97552-88a9-437d-a3cc-2e498d02edc9",
     "showTitle": false,
     "title": ""
    }
   },
   "source": [
    "## Task 4: Create the Agent\n",
    "\n",
    "The final step is to create the agent using the LLM, planning prompt and toolset."
   ]
  },
  {
   "cell_type": "code",
   "execution_count": 0,
   "metadata": {
    "application/vnd.databricks.v1+cell": {
     "cellMetadata": {},
     "inputWidgets": {},
     "nuid": "5a8054ca-faaa-48fe-9769-74a622d417f7",
     "showTitle": false,
     "title": ""
    }
   },
   "outputs": [],
   "source": [
    "from langchain.agents import AgentExecutor\n",
    "from langchain.agents.react.agent import create_react_agent\n",
    "\n",
    "agent = create_react_agent(llm_dbrx, tools, prompt)\n",
    "agent_exec  = AgentExecutor(agent=agent, tools=tools, verbose=True, handle_parsing_errors=True)"
   ]
  },
  {
   "cell_type": "markdown",
   "metadata": {
    "application/vnd.databricks.v1+cell": {
     "cellMetadata": {},
     "inputWidgets": {},
     "nuid": "62da0b41-22e8-4e4a-8538-9f9c86a9753b",
     "showTitle": false,
     "title": ""
    }
   },
   "source": [
    "## Task 5: Run the Agent\n",
    "\n",
    "Let's test the agent!\n",
    "\n",
    "**Use this prompt:**\n",
    "<blockquote>\n",
    "What do you think about investing in Apple stock? Provide an overview of the latest news about the company. Next, search a video on YouTube which reviews Apple's latest financials. \n",
    "\n",
    "Format the final answer as HTML.\n",
    "</blockquote>\n"
   ]
  },
  {
   "cell_type": "code",
   "execution_count": 0,
   "metadata": {
    "application/vnd.databricks.v1+cell": {
     "cellMetadata": {},
     "inputWidgets": {},
     "nuid": "dd0a1b7e-b2d2-4b4c-9c13-aada53d8c681",
     "showTitle": false,
     "title": ""
    }
   },
   "outputs": [],
   "source": [
    "response = agent_exec.invoke({\"input\": \n",
    "    \"\"\"\n",
    "    What do you think about investing in Apple stock? Provide an overview of the latest news about the company. Next, search a video on YouTube which reviews Apple's latest financials.\n",
    "\n",
    "    format the final answer as HTML\n",
    "    \"\"\"})\n",
    "\n",
    "displayHTML(response[\"output\"])"
   ]
  },
  {
   "cell_type": "markdown",
   "metadata": {
    "application/vnd.databricks.v1+cell": {
     "cellMetadata": {},
     "inputWidgets": {},
     "nuid": "4eb3132f-44d5-475e-9e47-4bba554392ab",
     "showTitle": false,
     "title": ""
    }
   },
   "source": [
    "It seems like the agent uses company name only when searching for videos. **Let's play with the prompt to get better results.**\n",
    "\n",
    "In real-world, the agent would be used in a conversational way and we would just chat with the agent to tweak the search query or to adjust the response in a desired format. \n",
    "\n",
    "**Use this prompt:**\n",
    "<blockquote>\n",
    "What do you think about investing in Apple stock? Provide an overview of the latest news about the company. Next, search a video on YouTube which reviews Apple's latest financials.\n",
    "\n",
    "When searching on YouTube use such as \"Apple  stock finance investment earnings valuation\".\n",
    "\n",
    "Write a nice summary of the results.\n",
    "\n",
    "Format the final answer as HTML.\n",
    "</blockquote>"
   ]
  },
  {
   "cell_type": "code",
   "execution_count": 0,
   "metadata": {
    "application/vnd.databricks.v1+cell": {
     "cellMetadata": {},
     "inputWidgets": {},
     "nuid": "b3e67980-08ff-4659-aaae-462c076191ec",
     "showTitle": false,
     "title": ""
    }
   },
   "outputs": [],
   "source": [
    "response = agent_exec.invoke({\"input\": \n",
    "    \"\"\"\n",
    "    What do you think about investing in Apple stock? Provide an overview of the latest news about the company. Next, search a video on YouTube which reviews Apple's latest financials.\n",
    "    When searching on YouTube use such as \"Apple  stock finance investment earnings valuation\".\n",
    "\n",
    "    Write a nice summary of the results.\n",
    "\n",
    "    Format the final answer as HTML.\n",
    "\n",
    "    \"\"\"})\n",
    "displayHTML(response[\"output\"])"
   ]
  },
  {
   "cell_type": "markdown",
   "metadata": {
    "application/vnd.databricks.v1+cell": {
     "cellMetadata": {},
     "inputWidgets": {},
     "nuid": "2715b817-4a5b-41fa-8543-78a897534bdf",
     "showTitle": false,
     "title": ""
    }
   },
   "source": [
    "\n",
    "## Clean up Classroom\n",
    "\n",
    "Run the following cell to remove lessons-specific assets created during this lesson."
   ]
  },
  {
   "cell_type": "code",
   "execution_count": 0,
   "metadata": {
    "application/vnd.databricks.v1+cell": {
     "cellMetadata": {},
     "inputWidgets": {},
     "nuid": "f4bb1422-3895-49dc-b660-f6a8b5ab836a",
     "showTitle": false,
     "title": ""
    }
   },
   "outputs": [],
   "source": [
    "DA.cleanup()"
   ]
  },
  {
   "cell_type": "markdown",
   "metadata": {
    "application/vnd.databricks.v1+cell": {
     "cellMetadata": {},
     "inputWidgets": {},
     "nuid": "ef01627f-1aa0-4bf3-ab42-a0c478420238",
     "showTitle": false,
     "title": ""
    }
   },
   "source": [
    "\n",
    "## Conclusion\n",
    "\n",
    "In this lab, you successfully created a virtual stock advisor agent using the ReAct prompting framework. By defining the agent's brain, tools, logic, and execution flow, you demonstrated how the agent can interact with various data sources to provide investment insights."
   ]
  },
  {
   "cell_type": "markdown",
   "metadata": {
    "application/vnd.databricks.v1+cell": {
     "cellMetadata": {},
     "inputWidgets": {},
     "nuid": "40b7bf35-a65c-43b0-8a4b-87f5305a31fb",
     "showTitle": false,
     "title": ""
    }
   },
   "source": [
    "\n",
    "&copy; 2024 Databricks, Inc. All rights reserved.<br/>\n",
    "Apache, Apache Spark, Spark and the Spark logo are trademarks of the \n",
    "<a href=\"https://www.apache.org/\">Apache Software Foundation</a>.<br/>\n",
    "<br/><a href=\"https://databricks.com/privacy-policy\">Privacy Policy</a> | \n",
    "<a href=\"https://databricks.com/terms-of-use\">Terms of Use</a> | \n",
    "<a href=\"https://help.databricks.com/\">Support</a>"
   ]
  }
 ],
 "metadata": {
  "application/vnd.databricks.v1+notebook": {
   "dashboards": [],
   "environmentMetadata": null,
   "language": "python",
   "notebookMetadata": {},
   "notebookName": "3.LAB - Create a ReAct Agent",
   "widgets": {}
  }
 },
 "nbformat": 4,
 "nbformat_minor": 0
}
